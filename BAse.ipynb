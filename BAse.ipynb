{
 "cells": [
  {
   "cell_type": "markdown",
   "metadata": {},
   "source": [
    "Step 1: Load and Explore the Data"
   ]
  },
  {
   "cell_type": "code",
   "execution_count": 1,
   "metadata": {},
   "outputs": [
    {
     "name": "stdout",
     "output_type": "stream",
     "text": [
      "Primary Train Data:\n",
      "   match id     team1  team1_id  \\\n",
      "0   9331181        Ba     11283   \n",
      "1   8797060        Ed        20   \n",
      "2   9433269        We     10576   \n",
      "3   9587073  Ga An Ws     36084   \n",
      "4   9516457     Pb Ks     30407   \n",
      "\n",
      "                                    team1_roster_ids  team2  team2_id  \\\n",
      "0  9373356.0:7857520.0:4232164.0:4566540.0:329940...  Hl Ph     12634   \n",
      "1  2089079.0:6139370.0:2076192.0:62432.0:2083409....  Wt Is        41   \n",
      "2  3298427.0:2288789.0:7773338.0:3519011.0:368195...     Ne      8987   \n",
      "3  8127230.0:4690328.0:4069666.0:7960847.0:469018...  Bs Rs     36070   \n",
      "4  8127181.0:197658.0:4239038.0:2398346.0:5053082...  Gt Ts     48341   \n",
      "\n",
      "                                    team2_roster_ids    winner  winner_id  \\\n",
      "0  3500958.0:4231751.0:2735081.0:2035102.0:369833...     Hl Ph      12634   \n",
      "1  4690258.0:4069666.0:4230127.0:1942317.0:161392...        Ed         20   \n",
      "2  4003390.0:1749075.0:1626526.0:4172447.0:551672...        We      10576   \n",
      "3  3462080.0:2436405.0:1798705.0:7550857.0:574247...  Ga An Ws      36084   \n",
      "4  1958683.0:7491224.0:8059029.0:4377610.0:225245...     Gt Ts      48341   \n",
      "\n",
      "  toss winner  ...    match_dt         lighting     series_name   season  \\\n",
      "0       Hl Ph  ...  2022-10-20  day/night match     Sd Mq Ai Ty  2022/23   \n",
      "1       Wt Is  ...  2022-01-23  day/night match  Ed tr of Wt Is  2021/22   \n",
      "2          Ne  ...  2023-06-02  day/night match           Vy Bt     2023   \n",
      "3    Ga An Ws  ...  2023-09-10        day match        Cn Pr Le     2023   \n",
      "4       Gt Ts  ...  2023-04-13      night match        In Pr Le     2023   \n",
      "\n",
      "  ground_id team_count_50runs_last15 team_winp_last5  \\\n",
      "0      7398                 1.666667        0.672131   \n",
      "1      1406                 1.285714        1.952381   \n",
      "2       251                 0.857143        0.672131   \n",
      "3     14300                 2.166667        1.975610   \n",
      "4      7118                 0.818182        1.327869   \n",
      "\n",
      "   team1only_avg_runs_last15  team1_winp_team2_last15  ground_avg_runs_last15  \n",
      "0                 139.000000                    100.0              157.178571  \n",
      "1                 156.000000                     50.0              103.500000  \n",
      "2                 173.266667                      0.0              154.333333  \n",
      "3                 164.266667                     50.0              144.250000  \n",
      "4                 164.666667                      0.0              189.000000  \n",
      "\n",
      "[5 rows x 23 columns]\n",
      "\n",
      "Batsman Data:\n",
      "   match id batsman  batsman_id                           batsman_details  \\\n",
      "0   8638034   KD Ce   7907451.0  NZ:Right-hand bat:Right-arm medium-fast:   \n",
      "1   8638034   TL St   4381761.0                   NZ:Right-hand bat:None:   \n",
      "2   8638034   HR Cr   4949790.0     NZ:Right-hand bat:Right-arm offbreak:   \n",
      "3   8638034   BR Hn   3834305.0  NZ:Right-hand bat:Right-arm medium-fast:   \n",
      "4   8638034   SC Kn   3776849.0  NZ:Right-hand bat:Right-arm fast-medium:   \n",
      "\n",
      "   is_batsman_captain  is_batsman_keeper  inning  runs  balls_faced  \\\n",
      "0                 0.0                0.0       1     7            5   \n",
      "1                 0.0                1.0       1    46           46   \n",
      "2                 0.0                0.0       1     9           10   \n",
      "3                 0.0                0.0       1    28           22   \n",
      "4                 0.0                0.0       1    18           13   \n",
      "\n",
      "   over_faced_first  ... out_by_bowler out_by_fielder  bowler_id  \\\n",
      "0               1.1  ...         JS Nm          TM Jn  2486896.0   \n",
      "1               1.2  ...          R Ra          MG Bl  6718382.0   \n",
      "2              12.1  ...         PF Yd           R Ra  4950294.0   \n",
      "3              13.6  ...         HK Bt          FH An  1585464.0   \n",
      "4              17.2  ...           NaN            NaN        NaN   \n",
      "\n",
      "                             bowler_details is_bowler_keeper  \\\n",
      "0   NZ:Left-hand bat:Right-arm medium-fast:              0.0   \n",
      "1  NZ:Left-hand bat:Slow left-arm orthodox:              0.0   \n",
      "2        NZ:Right-hand bat:Legbreak googly:              0.0   \n",
      "3   NZ:Left-hand bat:Right-arm medium-fast:              0.0   \n",
      "4                                       NaN              NaN   \n",
      "\n",
      "   is_bowler_captain  strike_rate  Fours  Sixes    match_dt  \n",
      "0                0.0       140.00    1.0    NaN  2021-01-01  \n",
      "1                0.0       100.00    4.0    1.0  2021-01-01  \n",
      "2                0.0        90.00    NaN    NaN  2021-01-01  \n",
      "3                0.0       127.27    3.0    NaN  2021-01-01  \n",
      "4                NaN       138.46    NaN    1.0  2021-01-01  \n",
      "\n",
      "[5 rows x 21 columns]\n"
     ]
    }
   ],
   "source": [
    "import pandas as pd\n",
    "\n",
    "# Load the primary train data\n",
    "primary_train_path = './train_data_with_samplefeatures.csv'  # Replace with the actual file path\n",
    "primary_train_df = pd.read_csv(primary_train_path)\n",
    "\n",
    "# Load the batsman-level data\n",
    "batsman_data_path = './batsman_level_scorecard.csv'  # Replace with the actual file path\n",
    "batsman_df = pd.read_csv(batsman_data_path)\n",
    "\n",
    "# Display the first few rows of each DataFrame\n",
    "print(\"Primary Train Data:\")\n",
    "print(primary_train_df.head())\n",
    "\n",
    "print(\"\\nBatsman Data:\")\n",
    "print(batsman_df.head())\n"
   ]
  },
  {
   "cell_type": "markdown",
   "metadata": {},
   "source": [
    "Step 2: Data Cleaning"
   ]
  },
  {
   "cell_type": "code",
   "execution_count": 4,
   "metadata": {},
   "outputs": [
    {
     "name": "stdout",
     "output_type": "stream",
     "text": [
      "Missing values in Primary Train Data:\n",
      "match id                      0\n",
      "team1                         0\n",
      "team1_id                      0\n",
      "team1_roster_ids              0\n",
      "team2                         0\n",
      "team2_id                      0\n",
      "team2_roster_ids              0\n",
      "winner                        0\n",
      "winner_id                     0\n",
      "toss winner                   0\n",
      "toss decision                 0\n",
      "venue                         0\n",
      "city                          0\n",
      "match_dt                      0\n",
      "lighting                      0\n",
      "series_name                   0\n",
      "season                        0\n",
      "ground_id                     0\n",
      "team_count_50runs_last15      0\n",
      "team_winp_last5               0\n",
      "team1only_avg_runs_last15    21\n",
      "team1_winp_team2_last15       0\n",
      "ground_avg_runs_last15       53\n",
      "dtype: int64\n",
      "\n",
      "Missing values in Batsman Data:\n",
      "match id                  0\n",
      "batsman                   0\n",
      "batsman_id                0\n",
      "batsman_details           0\n",
      "is_batsman_captain        0\n",
      "is_batsman_keeper         0\n",
      "inning                    0\n",
      "runs                      0\n",
      "balls_faced               0\n",
      "over_faced_first          0\n",
      "wicket kind            5328\n",
      "out_by_bowler          5328\n",
      "out_by_fielder        10645\n",
      "bowler_id              6355\n",
      "bowler_details         6355\n",
      "is_bowler_keeper       5785\n",
      "is_bowler_captain      6355\n",
      "strike_rate               9\n",
      "Fours                 10283\n",
      "Sixes                 15489\n",
      "match_dt                  0\n",
      "dtype: int64\n"
     ]
    }
   ],
   "source": [
    "# Check for missing values in primary train data\n",
    "print(\"Missing values in Primary Train Data:\")\n",
    "print(primary_train_df.isnull().sum())\n",
    "\n",
    "# Check for missing values in batsman-level data\n",
    "print(\"\\nMissing values in Batsman Data:\")\n",
    "print(batsman_df.isnull().sum())\n",
    "\n",
    "# Handling missing values (example: filling missing numeric values with mean)\n",
    "# primary_train_df.fillna(primary_train_df.mean(), inplace=True)\n",
    "# batsman_df.fillna(batsman_df.mean(), inplace=True)\n",
    "\n",
    "# Convert date columns to datetime\n",
    "primary_train_df['match_dt'] = pd.to_datetime(primary_train_df['match_dt'])\n",
    "batsman_df['match_dt'] = pd.to_datetime(batsman_df['match_dt'])\n"
   ]
  },
  {
   "cell_type": "markdown",
   "metadata": {},
   "source": [
    "Step 3: Feature Engineering"
   ]
  },
  {
   "cell_type": "code",
   "execution_count": 5,
   "metadata": {},
   "outputs": [
    {
     "name": "stdout",
     "output_type": "stream",
     "text": [
      "\n",
      "Merged Primary Train Data:\n",
      "   match id team1  team1_id  \\\n",
      "0   9331181    Ba     11283   \n",
      "1   9331181    Ba     11283   \n",
      "2   9331181    Ba     11283   \n",
      "3   9331181    Ba     11283   \n",
      "4   9331181    Ba     11283   \n",
      "\n",
      "                                    team1_roster_ids  team2  team2_id  \\\n",
      "0  9373356.0:7857520.0:4232164.0:4566540.0:329940...  Hl Ph     12634   \n",
      "1  9373356.0:7857520.0:4232164.0:4566540.0:329940...  Hl Ph     12634   \n",
      "2  9373356.0:7857520.0:4232164.0:4566540.0:329940...  Hl Ph     12634   \n",
      "3  9373356.0:7857520.0:4232164.0:4566540.0:329940...  Hl Ph     12634   \n",
      "4  9373356.0:7857520.0:4232164.0:4566540.0:329940...  Hl Ph     12634   \n",
      "\n",
      "                                    team2_roster_ids winner  winner_id  \\\n",
      "0  3500958.0:4231751.0:2735081.0:2035102.0:369833...  Hl Ph      12634   \n",
      "1  3500958.0:4231751.0:2735081.0:2035102.0:369833...  Hl Ph      12634   \n",
      "2  3500958.0:4231751.0:2735081.0:2035102.0:369833...  Hl Ph      12634   \n",
      "3  3500958.0:4231751.0:2735081.0:2035102.0:369833...  Hl Ph      12634   \n",
      "4  3500958.0:4231751.0:2735081.0:2035102.0:369833...  Hl Ph      12634   \n",
      "\n",
      "  toss winner  ... team_winp_last5 team1only_avg_runs_last15  \\\n",
      "0       Hl Ph  ...        0.672131                     139.0   \n",
      "1       Hl Ph  ...        0.672131                     139.0   \n",
      "2       Hl Ph  ...        0.672131                     139.0   \n",
      "3       Hl Ph  ...        0.672131                     139.0   \n",
      "4       Hl Ph  ...        0.672131                     139.0   \n",
      "\n",
      "  team1_winp_team2_last15 ground_avg_runs_last15 batsman_id total_runs  \\\n",
      "0                   100.0             157.178571   232000.0         10   \n",
      "1                   100.0             157.178571  2035102.0          4   \n",
      "2                   100.0             157.178571  2526390.0          9   \n",
      "3                   100.0             157.178571  3299407.0         31   \n",
      "4                   100.0             157.178571  3500958.0         61   \n",
      "\n",
      "  total_balls_faced  total_fours  total_sixes  strike_rate  \n",
      "0                16          1.0          0.0    62.500000  \n",
      "1                 7          0.0          0.0    57.142857  \n",
      "2                 6          0.0          1.0   150.000000  \n",
      "3                24          5.0          0.0   129.166667  \n",
      "4                48          4.0          2.0   127.083333  \n",
      "\n",
      "[5 rows x 29 columns]\n"
     ]
    }
   ],
   "source": [
    "# Create additional features from batsman-level data\n",
    "# Example: Calculate total runs, strike rate, and number of boundaries (fours and sixes) for each batsman in each match\n",
    "\n",
    "# Group by match_id and batsman_id to calculate aggregated stats\n",
    "batsman_aggregates = batsman_df.groupby(['match id', 'batsman_id']).agg(\n",
    "    total_runs=('runs', 'sum'),\n",
    "    total_balls_faced=('balls_faced', 'sum'),\n",
    "    total_fours=('Fours', 'sum'),\n",
    "    total_sixes=('Sixes', 'sum')\n",
    ").reset_index()\n",
    "\n",
    "# Calculate additional stats\n",
    "batsman_aggregates['strike_rate'] = (batsman_aggregates['total_runs'] / batsman_aggregates['total_balls_faced']) * 100\n",
    "\n",
    "# Merge these features into the primary train data\n",
    "primary_train_df = primary_train_df.merge(batsman_aggregates, how='left', left_on='match id', right_on='match id')\n",
    "\n",
    "# Display the merged DataFrame\n",
    "print(\"\\nMerged Primary Train Data:\")\n",
    "print(primary_train_df.head())\n"
   ]
  },
  {
   "cell_type": "markdown",
   "metadata": {},
   "source": [
    "Step 4: Splitting the Data"
   ]
  },
  {
   "cell_type": "code",
   "execution_count": 6,
   "metadata": {},
   "outputs": [
    {
     "name": "stdout",
     "output_type": "stream",
     "text": [
      "\n",
      "Training Data Shape: (11564, 24)\n",
      "Validation Data Shape: (2891, 24)\n"
     ]
    }
   ],
   "source": [
    "from sklearn.model_selection import train_test_split\n",
    "\n",
    "# Define the target variable\n",
    "target = 'winner_id'\n",
    "\n",
    "# Define features (dropping non-numeric and target columns for simplicity)\n",
    "features = primary_train_df.drop(columns=['match id', 'team1', 'team2', 'winner', target])\n",
    "\n",
    "# Split the data into training and validation sets\n",
    "X_train, X_val, y_train, y_val = train_test_split(features, primary_train_df[target], test_size=0.2, random_state=42)\n",
    "\n",
    "print(\"\\nTraining Data Shape:\", X_train.shape)\n",
    "print(\"Validation Data Shape:\", X_val.shape)\n"
   ]
  },
  {
   "cell_type": "markdown",
   "metadata": {},
   "source": [
    "Step 5: Model Training"
   ]
  },
  {
   "cell_type": "code",
   "execution_count": null,
   "metadata": {},
   "outputs": [],
   "source": [
    "from xgboost import XGBClassifier\n",
    "from sklearn.metrics import accuracy_score\n",
    "\n",
    "# Train an XGBoost model\n",
    "model = XGBClassifier()\n",
    "model.fit(X_train, y_train)\n",
    "\n",
    "# Make predictions on the validation set\n",
    "y_pred = model.predict(X_val)\n",
    "\n",
    "# Evaluate the model\n",
    "accuracy = accuracy_score(y_val, y_pred)\n",
    "print(\"\\nValidation Accuracy:\", accuracy)\n"
   ]
  }
 ],
 "metadata": {
  "kernelspec": {
   "display_name": "Python 3",
   "language": "python",
   "name": "python3"
  },
  "language_info": {
   "codemirror_mode": {
    "name": "ipython",
    "version": 3
   },
   "file_extension": ".py",
   "mimetype": "text/x-python",
   "name": "python",
   "nbconvert_exporter": "python",
   "pygments_lexer": "ipython3",
   "version": "3.12.0"
  }
 },
 "nbformat": 4,
 "nbformat_minor": 2
}
